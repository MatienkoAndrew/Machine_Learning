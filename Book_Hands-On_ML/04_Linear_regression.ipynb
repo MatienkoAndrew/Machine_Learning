{
 "cells": [
  {
   "cell_type": "code",
   "execution_count": 54,
   "metadata": {},
   "outputs": [],
   "source": [
    "%matplotlib inline\n",
    "import matplotlib.pyplot as plt\n",
    "import numpy as np\n",
    "import pandas as pd\n",
    "\n",
    "X = 2 * np.random.rand(100, 1)\n",
    "y = 4 + 3 * X + np.random.randn(100, 1)"
   ]
  },
  {
   "cell_type": "code",
   "execution_count": 55,
   "metadata": {},
   "outputs": [
    {
     "data": {
      "text/html": [
       "<div>\n",
       "<style scoped>\n",
       "    .dataframe tbody tr th:only-of-type {\n",
       "        vertical-align: middle;\n",
       "    }\n",
       "\n",
       "    .dataframe tbody tr th {\n",
       "        vertical-align: top;\n",
       "    }\n",
       "\n",
       "    .dataframe thead th {\n",
       "        text-align: right;\n",
       "    }\n",
       "</style>\n",
       "<table border=\"1\" class=\"dataframe\">\n",
       "  <thead>\n",
       "    <tr style=\"text-align: right;\">\n",
       "      <th></th>\n",
       "      <th>X</th>\n",
       "      <th>y</th>\n",
       "    </tr>\n",
       "  </thead>\n",
       "  <tbody>\n",
       "    <tr>\n",
       "      <th>0</th>\n",
       "      <td>0.547339</td>\n",
       "      <td>5.662081</td>\n",
       "    </tr>\n",
       "    <tr>\n",
       "      <th>1</th>\n",
       "      <td>1.011939</td>\n",
       "      <td>7.623941</td>\n",
       "    </tr>\n",
       "    <tr>\n",
       "      <th>2</th>\n",
       "      <td>1.418656</td>\n",
       "      <td>7.925300</td>\n",
       "    </tr>\n",
       "    <tr>\n",
       "      <th>3</th>\n",
       "      <td>0.547606</td>\n",
       "      <td>4.806251</td>\n",
       "    </tr>\n",
       "    <tr>\n",
       "      <th>4</th>\n",
       "      <td>0.691095</td>\n",
       "      <td>5.452098</td>\n",
       "    </tr>\n",
       "    <tr>\n",
       "      <th>...</th>\n",
       "      <td>...</td>\n",
       "      <td>...</td>\n",
       "    </tr>\n",
       "    <tr>\n",
       "      <th>95</th>\n",
       "      <td>0.687138</td>\n",
       "      <td>5.811151</td>\n",
       "    </tr>\n",
       "    <tr>\n",
       "      <th>96</th>\n",
       "      <td>0.843744</td>\n",
       "      <td>8.352335</td>\n",
       "    </tr>\n",
       "    <tr>\n",
       "      <th>97</th>\n",
       "      <td>0.520935</td>\n",
       "      <td>7.459500</td>\n",
       "    </tr>\n",
       "    <tr>\n",
       "      <th>98</th>\n",
       "      <td>1.408579</td>\n",
       "      <td>8.453160</td>\n",
       "    </tr>\n",
       "    <tr>\n",
       "      <th>99</th>\n",
       "      <td>0.821488</td>\n",
       "      <td>6.733283</td>\n",
       "    </tr>\n",
       "  </tbody>\n",
       "</table>\n",
       "<p>100 rows × 2 columns</p>\n",
       "</div>"
      ],
      "text/plain": [
       "           X         y\n",
       "0   0.547339  5.662081\n",
       "1   1.011939  7.623941\n",
       "2   1.418656  7.925300\n",
       "3   0.547606  4.806251\n",
       "4   0.691095  5.452098\n",
       "..       ...       ...\n",
       "95  0.687138  5.811151\n",
       "96  0.843744  8.352335\n",
       "97  0.520935  7.459500\n",
       "98  1.408579  8.453160\n",
       "99  0.821488  6.733283\n",
       "\n",
       "[100 rows x 2 columns]"
      ]
     },
     "execution_count": 55,
     "metadata": {},
     "output_type": "execute_result"
    }
   ],
   "source": [
    "df1 = pd.DataFrame({'X': X[:, 0], 'y': y[:, 0]})\n",
    "df1"
   ]
  },
  {
   "cell_type": "code",
   "execution_count": 56,
   "metadata": {},
   "outputs": [
    {
     "data": {
      "text/plain": [
       "<matplotlib.axes._subplots.AxesSubplot at 0x1cd07d92a90>"
      ]
     },
     "execution_count": 56,
     "metadata": {},
     "output_type": "execute_result"
    },
    {
     "data": {
      "image/png": "[encoded data removed]",
      "text/plain": [
       "<Figure size 432x288 with 1 Axes>"
      ]
     },
     "metadata": {
      "needs_background": "light"
     },
     "output_type": "display_data"
    }
   ],
   "source": [
    "df1.plot(kind='scatter', x='X', y='y')"
   ]
  },
  {
   "cell_type": "code",
   "execution_count": 62,
   "metadata": {},
   "outputs": [
    {
     "data": {
      "text/plain": [
       "array([[4.11080057],\n",
       "       [3.01705967]])"
      ]
     },
     "execution_count": 62,
     "metadata": {},
     "output_type": "execute_result"
    }
   ],
   "source": [
    "X_b = np.c_[np.ones((100, 1)), X]\n",
    "theta_best = np.linalg.inv(X_b.T.dot(X_b)).dot(X_b.T).dot(y)\n",
    "theta_best"
   ]
  },
  {
   "cell_type": "code",
   "execution_count": 63,
   "metadata": {},
   "outputs": [
    {
     "data": {
      "text/plain": [
       "array([[0],\n",
       "       [2]])"
      ]
     },
     "execution_count": 63,
     "metadata": {},
     "output_type": "execute_result"
    }
   ],
   "source": [
    "X_new = np.array([[0], [2]])\n",
    "X_new"
   ]
  },
  {
   "cell_type": "code",
   "execution_count": 64,
   "metadata": {},
   "outputs": [
    {
     "data": {
      "text/plain": [
       "array([[1., 0.],\n",
       "       [1., 2.]])"
      ]
     },
     "execution_count": 64,
     "metadata": {},
     "output_type": "execute_result"
    }
   ],
   "source": [
    "X_new_b = np.c_[np.ones((2, 1)), X_new]\n",
    "X_new_b"
   ]
  },
  {
   "cell_type": "code",
   "execution_count": 65,
   "metadata": {},
   "outputs": [
    {
     "data": {
      "text/plain": [
       "array([[ 4.11080057],\n",
       "       [10.1449199 ]])"
      ]
     },
     "execution_count": 65,
     "metadata": {},
     "output_type": "execute_result"
    }
   ],
   "source": [
    "y_predict = X_new_b.dot(theta_best)\n",
    "y_predict"
   ]
  },
  {
   "cell_type": "code",
   "execution_count": 70,
   "metadata": {},
   "outputs": [
    {
     "data": {
      "text/plain": [
       "[0, 2, 0, 12]"
      ]
     },
     "execution_count": 70,
     "metadata": {},
     "output_type": "execute_result"
    },
    {
     "data": {
      "image/png": "[encoded data removed]",
      "text/plain": [
       "<Figure size 432x288 with 1 Axes>"
      ]
     },
     "metadata": {
      "needs_background": "light"
     },
     "output_type": "display_data"
    }
   ],
   "source": [
    "plt.plot(X_new, y_predict, \"r-\")\n",
    "plt.plot(X, y, 'b.')\n",
    "plt.axis([0, 2, 0, 12])"
   ]
  },
  {
   "cell_type": "code",
   "execution_count": 71,
   "metadata": {},
   "outputs": [
    {
     "data": {
      "text/plain": [
       "(array([4.11080057]), array([[3.01705967]]))"
      ]
     },
     "execution_count": 71,
     "metadata": {},
     "output_type": "execute_result"
    }
   ],
   "source": [
    "from sklearn.linear_model import LinearRegression\n",
    "\n",
    "lin_reg = LinearRegression()\n",
    "lin_reg.fit(X, y)\n",
    "lin_reg.intercept_, lin_reg.coef_"
   ]
  },
  {
   "cell_type": "code",
   "execution_count": 72,
   "metadata": {},
   "outputs": [
    {
     "data": {
      "text/plain": [
       "array([[ 4.11080057],\n",
       "       [10.1449199 ]])"
      ]
     },
     "execution_count": 72,
     "metadata": {},
     "output_type": "execute_result"
    }
   ],
   "source": [
    "lin_reg.predict(X_new)"
   ]
  },
  {
   "cell_type": "code",
   "execution_count": 92,
   "metadata": {},
   "outputs": [
    {
     "name": "stdout",
     "output_type": "stream",
     "text": [
      "END: [[4.11080057]\n",
      " [3.01705967]]\n"
     ]
    }
   ],
   "source": [
    "eta = 0.1\n",
    "n_iterations = 1000\n",
    "m = 100\n",
    "theta = np.random.rand(2, 1)\n",
    "theta\n",
    "for iteration in range(n_iterations):\n",
    "    gradients = 2/m * X_b.T.dot(X_b.dot(theta) - y)\n",
    "    theta = theta - eta*gradients\n",
    "print(\"END: \" + str(theta))"
   ]
  },
  {
   "cell_type": "code",
   "execution_count": 102,
   "metadata": {},
   "outputs": [
    {
     "data": {
      "text/plain": [
       "array([[4.18281134],\n",
       "       [3.03330954]])"
      ]
     },
     "execution_count": 102,
     "metadata": {},
     "output_type": "execute_result"
    },
    {
     "data": {
      "image/png": "[encoded data removed]",
      "text/plain": [
       "<Figure size 432x288 with 1 Axes>"
      ]
     },
     "metadata": {
      "needs_background": "light"
     },
     "output_type": "display_data"
    }
   ],
   "source": [
    "##--SGD\n",
    "n_epochs = 50\n",
    "t0, t1 = 5, 50\n",
    "\n",
    "def learning_schedule(t):\n",
    "    return t0 / (t + t1)\n",
    "\n",
    "theta = np.random.randn(2, 1)\n",
    "\n",
    "for epoch in range(n_epochs):\n",
    "    for i in range(m):\n",
    "        random_index = np.random.randint(m)\n",
    "        xi = X_b[random_index:random_index+1]\n",
    "        yi = y[random_index:random_index+1]\n",
    "        gradients = 2 * xi.T.dot(xi.dot(theta)-yi)\n",
    "        eta = learning_schedule(epoch*m - yi)\n",
    "        theta = theta - eta * gradients\n",
    "        y_predict = X_new_b.dot(theta)\n",
    "        plt.plot(X_new, y_predict, \"r-\")\n",
    "        plt.plot(X, y, 'b.')\n",
    "        plt.axis([0, 2, 0, 12])\n",
    "theta"
   ]
  },
  {
   "cell_type": "code",
   "execution_count": 103,
   "metadata": {},
   "outputs": [
    {
     "data": {
      "text/plain": [
       "[0, 2, 0, 12]"
      ]
     },
     "execution_count": 103,
     "metadata": {},
     "output_type": "execute_result"
    },
    {
     "data": {
      "image/png": "[encoded data removed]",
      "text/plain": [
       "<Figure size 432x288 with 1 Axes>"
      ]
     },
     "metadata": {
      "needs_background": "light"
     },
     "output_type": "display_data"
    }
   ],
   "source": [
    "y_predict = X_new_b.dot(theta)\n",
    "plt.plot(X_new, y_predict, \"r-\")\n",
    "plt.plot(X, y, 'b.')\n",
    "plt.axis([0, 2, 0, 12])"
   ]
  },
  {
   "cell_type": "code",
   "execution_count": 111,
   "metadata": {},
   "outputs": [
    {
     "data": {
      "text/plain": [
       "array([ 5.6620813 ,  7.62394075,  7.92529992,  4.80625115,  5.45209809,\n",
       "        9.26500798,  6.79657952,  4.43916044,  6.12356962,  7.72651967,\n",
       "        6.1561296 ,  8.43786048,  7.39236936,  6.50556128,  2.97426147,\n",
       "        8.74223048,  5.69387603,  6.9527944 ,  6.50271127, 10.11417169,\n",
       "        9.83991947,  5.62864001,  5.35079491,  8.28161678, 11.00206467,\n",
       "        8.95632003,  4.88217978,  9.71566181,  6.50910406,  9.26671381,\n",
       "        7.09950261,  9.86005888,  7.13243372,  8.48379848,  4.91362096,\n",
       "        7.41452393,  7.16821219,  7.49965746,  3.41317519,  9.8188594 ,\n",
       "        8.29215979,  8.9846276 ,  7.82077933,  4.10738819,  5.32555425,\n",
       "        7.73370075,  7.71963552,  8.47208233,  9.73046914,  7.01942758,\n",
       "        9.41936594,  4.93766817, 11.37298079,  7.78921928, 10.12625004,\n",
       "        7.31158129,  3.28780844,  4.33813341,  4.77635141,  5.22228052,\n",
       "        9.28382961,  4.5121005 ,  9.62407919,  5.9473608 ,  7.24551936,\n",
       "        8.4799166 ,  4.54050996,  7.23107537,  8.44624427,  8.9896411 ,\n",
       "        9.66693344,  5.17765809,  5.14819429,  9.55385138,  6.88355328,\n",
       "        5.30088742,  8.35434835,  8.13039894,  8.79542773,  6.0525435 ,\n",
       "        7.25052751,  6.99338951,  9.7541585 ,  9.41305041,  8.0452745 ,\n",
       "        8.64857392,  3.63735159,  8.12993149,  2.82468544,  7.53138712,\n",
       "        5.7247109 ,  8.39653023,  9.17343707,  9.02073646,  4.27773356,\n",
       "        5.81115138,  8.3523346 ,  7.45949984,  8.45316015,  6.73328268])"
      ]
     },
     "execution_count": 111,
     "metadata": {},
     "output_type": "execute_result"
    }
   ],
   "source": [
    "y.ravel() ## == y.T[0, :]"
   ]
  },
  {
   "cell_type": "code",
   "execution_count": 117,
   "metadata": {},
   "outputs": [
    {
     "data": {
      "text/html": [
       "<div>\n",
       "<style scoped>\n",
       "    .dataframe tbody tr th:only-of-type {\n",
       "        vertical-align: middle;\n",
       "    }\n",
       "\n",
       "    .dataframe tbody tr th {\n",
       "        vertical-align: top;\n",
       "    }\n",
       "\n",
       "    .dataframe thead th {\n",
       "        text-align: right;\n",
       "    }\n",
       "</style>\n",
       "<table border=\"1\" class=\"dataframe\">\n",
       "  <thead>\n",
       "    <tr style=\"text-align: right;\">\n",
       "      <th></th>\n",
       "      <th>X</th>\n",
       "      <th>y</th>\n",
       "    </tr>\n",
       "  </thead>\n",
       "  <tbody>\n",
       "    <tr>\n",
       "      <th>0</th>\n",
       "      <td>-1.834339</td>\n",
       "      <td>0.074394</td>\n",
       "    </tr>\n",
       "    <tr>\n",
       "      <th>1</th>\n",
       "      <td>-1.574493</td>\n",
       "      <td>1.576070</td>\n",
       "    </tr>\n",
       "    <tr>\n",
       "      <th>2</th>\n",
       "      <td>1.379232</td>\n",
       "      <td>5.447346</td>\n",
       "    </tr>\n",
       "    <tr>\n",
       "      <th>3</th>\n",
       "      <td>-0.837974</td>\n",
       "      <td>1.055948</td>\n",
       "    </tr>\n",
       "    <tr>\n",
       "      <th>4</th>\n",
       "      <td>-2.957580</td>\n",
       "      <td>2.887326</td>\n",
       "    </tr>\n",
       "    <tr>\n",
       "      <th>...</th>\n",
       "      <td>...</td>\n",
       "      <td>...</td>\n",
       "    </tr>\n",
       "    <tr>\n",
       "      <th>95</th>\n",
       "      <td>-2.634401</td>\n",
       "      <td>1.725819</td>\n",
       "    </tr>\n",
       "    <tr>\n",
       "      <th>96</th>\n",
       "      <td>0.409280</td>\n",
       "      <td>2.023780</td>\n",
       "    </tr>\n",
       "    <tr>\n",
       "      <th>97</th>\n",
       "      <td>-1.572348</td>\n",
       "      <td>1.053852</td>\n",
       "    </tr>\n",
       "    <tr>\n",
       "      <th>98</th>\n",
       "      <td>-0.025926</td>\n",
       "      <td>1.464830</td>\n",
       "    </tr>\n",
       "    <tr>\n",
       "      <th>99</th>\n",
       "      <td>-1.579779</td>\n",
       "      <td>2.149993</td>\n",
       "    </tr>\n",
       "  </tbody>\n",
       "</table>\n",
       "<p>100 rows × 2 columns</p>\n",
       "</div>"
      ],
      "text/plain": [
       "           X         y\n",
       "0  -1.834339  0.074394\n",
       "1  -1.574493  1.576070\n",
       "2   1.379232  5.447346\n",
       "3  -0.837974  1.055948\n",
       "4  -2.957580  2.887326\n",
       "..       ...       ...\n",
       "95 -2.634401  1.725819\n",
       "96  0.409280  2.023780\n",
       "97 -1.572348  1.053852\n",
       "98 -0.025926  1.464830\n",
       "99 -1.579779  2.149993\n",
       "\n",
       "[100 rows x 2 columns]"
      ]
     },
     "execution_count": 117,
     "metadata": {},
     "output_type": "execute_result"
    }
   ],
   "source": [
    "m = 100\n",
    "X = 6*np.random.rand(m, 1) - 3\n",
    "y = 0.5 * X**2 + X + 2 + np.random.randn(m, 1)\n",
    "df1 = pd.DataFrame({\"X\":X[:, 0], \"y\":y[:, 0]})\n",
    "df1"
   ]
  },
  {
   "cell_type": "code",
   "execution_count": 118,
   "metadata": {},
   "outputs": [
    {
     "data": {
      "text/plain": [
       "<matplotlib.axes._subplots.AxesSubplot at 0x1cd1514f780>"
      ]
     },
     "execution_count": 118,
     "metadata": {},
     "output_type": "execute_result"
    },
    {
     "data": {
      "image/png": "[encoded data removed]",
      "text/plain": [
       "<Figure size 432x288 with 1 Axes>"
      ]
     },
     "metadata": {
      "needs_background": "light"
     },
     "output_type": "display_data"
    }
   ],
   "source": [
    "df1.plot(kind=\"scatter\",x=\"X\", y=\"y\")"
   ]
  },
  {
   "cell_type": "code",
   "execution_count": 119,
   "metadata": {},
   "outputs": [
    {
     "data": {
      "text/plain": [
       "array([-1.83433867])"
      ]
     },
     "execution_count": 119,
     "metadata": {},
     "output_type": "execute_result"
    }
   ],
   "source": [
    "from sklearn.preprocessing import PolynomialFeatures\n",
    "poly_features = PolynomialFeatures(degree=2, include_bias=False)\n",
    "X_poly = poly_features.fit_transform(X)\n",
    "X[0]"
   ]
  },
  {
   "cell_type": "code",
   "execution_count": 120,
   "metadata": {},
   "outputs": [
    {
     "data": {
      "text/plain": [
       "array([-1.83433867,  3.36479836])"
      ]
     },
     "execution_count": 120,
     "metadata": {},
     "output_type": "execute_result"
    }
   ],
   "source": [
    "X_poly[0]"
   ]
  },
  {
   "cell_type": "code",
   "execution_count": 122,
   "metadata": {},
   "outputs": [
    {
     "data": {
      "text/plain": [
       "(array([2.24456013]), array([[0.98788452, 0.46073941]]))"
      ]
     },
     "execution_count": 122,
     "metadata": {},
     "output_type": "execute_result"
    }
   ],
   "source": [
    "lin_reg = LinearRegression()\n",
    "lin_reg.fit(X_poly, y)\n",
    "lin_reg.intercept_, lin_reg.coef_"
   ]
  },
  {
   "cell_type": "code",
   "execution_count": 157,
   "metadata": {},
   "outputs": [],
   "source": [
    "y_new = lin_reg.predict(X_poly)"
   ]
  },
  {
   "cell_type": "code",
   "execution_count": 162,
   "metadata": {},
   "outputs": [
    {
     "data": {
      "text/plain": [
       "array([-1.83433867, -1.57449302,  1.37923154, -0.83797409, -2.95758038,\n",
       "        2.76687466, -2.33953165, -2.1595924 ,  1.63394113,  0.01891693,\n",
       "       -0.09367595, -1.46738353,  2.87074534, -2.94048928,  1.43485233,\n",
       "       -1.13874695,  0.69609806,  2.93287801, -2.69534823, -0.05439762,\n",
       "        0.42922675,  0.45083601, -2.01725674, -2.44255697, -1.57003151,\n",
       "       -2.96856812,  2.44422938, -0.28287106,  1.95466985,  2.98109349,\n",
       "       -1.82061817,  0.96619159, -0.06843303,  0.44836539, -0.49634899,\n",
       "        2.20139209,  0.79267129,  0.29334169, -0.27753687, -1.86084643,\n",
       "        1.77894519, -2.01439049,  0.48552807,  0.67663131,  1.15867115,\n",
       "        1.58519645, -0.15119559, -2.90814707, -1.85655892,  0.00442756,\n",
       "       -2.81543715,  2.00267051, -0.9033534 ,  2.63680062, -1.00897188,\n",
       "       -1.724494  ,  2.96409432, -0.69798306, -2.93373538, -1.55105438,\n",
       "        2.43294974, -2.49408572, -1.13376034,  2.66222587,  1.60312807,\n",
       "        2.42781037, -0.14960488, -0.20773597,  1.91291222,  2.029435  ,\n",
       "        0.45001701,  1.09819392, -2.35183581, -1.73442101,  1.09529862,\n",
       "        0.25670404, -2.71224518,  1.88403815,  0.92732823,  0.27934275,\n",
       "       -0.18541525,  0.3167954 ,  0.66499592, -1.87095317,  1.58786126,\n",
       "       -0.5782736 ,  0.55208428, -0.84314595, -0.21777278,  2.78444631,\n",
       "       -2.79288753, -0.26462172, -0.59270667, -1.90496067,  0.81426955,\n",
       "       -2.63440081,  0.40927954, -1.57234795, -0.02592589, -1.57977883])"
      ]
     },
     "execution_count": 162,
     "metadata": {},
     "output_type": "execute_result"
    }
   ],
   "source": [
    "X_poly[:, 0]"
   ]
  },
  {
   "cell_type": "code",
   "execution_count": 223,
   "metadata": {},
   "outputs": [
    {
     "data": {
      "text/plain": [
       "[-3, 3, 0, 10]"
      ]
     },
     "execution_count": 223,
     "metadata": {},
     "output_type": "execute_result"
    },
    {
     "data": {
      "image/png": "[encoded data removed]",
      "text/plain": [
       "<Figure size 432x288 with 1 Axes>"
      ]
     },
     "metadata": {
      "needs_background": "light"
     },
     "output_type": "display_data"
    }
   ],
   "source": [
    "plt.plot(X, y, 'b.')\n",
    "plt.plot(X[:, 0], y_new, 'r-')\n",
    "plt.axis([-3, 3, 0, 10])"
   ]
  },
  {
   "cell_type": "code",
   "execution_count": 219,
   "metadata": {},
   "outputs": [
    {
     "name": "stdout",
     "output_type": "stream",
     "text": [
      "[0.0, 0.0, 1.5548379753807031, 2.357135466628263, 2.1952527502811057, 2.7209618485337455, 2.465563990382541, 2.8540290480883814, 2.5599461165142348, 2.419607343742605, 2.2005067890541863, 2.8326832980105188, 2.703921481236987, 2.585696655533436, 2.6507427660806497, 2.861463333383237, 2.861292102177637, 2.7167580690322715, 2.753101394345371, 2.93443479003459, 2.798267992924388, 2.6711464524503827, 2.5557080326926793, 2.89080832149186, 3.141219618671444, 3.064803435779926, 3.015133570773103, 2.9142290284679153, 2.8159167709932227, 2.806094745640263, 2.7992121842053055, 2.711834353801846, 2.7592894081762265, 2.7035656187180064, 2.6308644105464625, 2.5722910149115035, 2.5632313812603114, 2.513353951200679, 2.482920803955654, 2.80838706485945, 2.851280977343327, 2.7853300629737596, 2.7256960168666833, 2.668752189719775, 2.617238395646244, 2.6270454953510165, 2.678615522064808, 2.6230614574646967, 2.6834301110219254, 2.7932432456621012, 2.7558592440043057, 2.7229247374665624, 2.7176424973538644, 2.74255051878071, 2.7817272862265376, 2.736142276444827, 2.76485579323477, 2.7265658035417313, 2.841897680357806, 2.79902187436852, 2.8240510793360065, 2.8196981233938647, 2.7845282570412864, 2.7611926355998184, 2.785400294430386, 2.7584636738399886, 2.760286637721354, 2.725468370396782, 2.788115933833322, 2.7485505398386585, 2.709995252983169, 2.6736277919022964, 2.6372138886077963, 2.620370433971778, 2.6267654760402284, 2.6152559639603186, 2.582025963124932, 2.5647627626801133, 2.6538371230769995, 2.6565310305792527]\n"
     ]
    },
    {
     "data": {
      "image/png": "[encoded data removed]",
      "text/plain": [
       "<Figure size 432x288 with 1 Axes>"
      ]
     },
     "metadata": {
      "needs_background": "light"
     },
     "output_type": "display_data"
    }
   ],
   "source": [
    "from sklearn.metrics import mean_squared_error\n",
    "from sklearn.model_selection import train_test_split\n",
    "import math\n",
    "def plot_learning_curves(model, X, y):\n",
    "    X_train, X_val, y_train, y_val = train_test_split(X, y, test_size=0.2)\n",
    "    train_errors, val_errors = [], []\n",
    "    for m in range(1, len(X_train) + 1):\n",
    "        model.fit(X_train[:m], y_train[:m])\n",
    "        y_train_predict = model.predict(X_train[:m])\n",
    "        y_val_predict = model.predict(X_val[:m])\n",
    "        train_errors.append(mean_squared_error(y_train_predict, y_train[:m]))\n",
    "        val_errors.append(mean_squared_error(y_val[:m], y_val_predict))\n",
    "    print(train_errors)\n",
    "    plt.plot(np.sqrt(train_errors), \"r-+\", linewidth=2, label=\"train\")\n",
    "    plt.plot(np.sqrt(val_errors), \"b-\", linewidth=3, label=\"val\")\n",
    "    plt.axis([0, 80, 0, 10])\n",
    "lin_reg = LinearRegression()\n",
    "plot_learning_curves(lin_reg, X, y)"
   ]
  },
  {
   "cell_type": "code",
   "execution_count": 218,
   "metadata": {},
   "outputs": [
    {
     "data": {
      "image/png": "[encoded data removed]",
      "text/plain": [
       "<Figure size 432x288 with 1 Axes>"
      ]
     },
     "metadata": {
      "needs_background": "light"
     },
     "output_type": "display_data"
    }
   ],
   "source": [
    "from sklearn.pipeline import Pipeline\n",
    "\n",
    "polynomial_regression = Pipeline([\n",
    "    (\"poly_features\", PolynomialFeatures(degree=10, include_bias=False)),\n",
    "    (\"lin_reg\", LinearRegression())\n",
    "])\n",
    "plot_learning_curves(polynomial_regression, X,y )"
   ]
  },
  {
   "cell_type": "code",
   "execution_count": 231,
   "metadata": {},
   "outputs": [
    {
     "data": {
      "text/plain": [
       "array([[4.98573484]])"
      ]
     },
     "execution_count": 231,
     "metadata": {},
     "output_type": "execute_result"
    }
   ],
   "source": [
    "from sklearn.linear_model import Ridge\n",
    "\n",
    "ridge_reg = Ridge(alpha=1, solver=\"cholesky\")\n",
    "ridge_reg.fit(X, y)\n",
    "ridge_reg.predict([[1.5]])"
   ]
  },
  {
   "cell_type": "code",
   "execution_count": 241,
   "metadata": {},
   "outputs": [
    {
     "data": {
      "text/plain": [
       "array([4.95032036])"
      ]
     },
     "execution_count": 241,
     "metadata": {},
     "output_type": "execute_result"
    }
   ],
   "source": [
    "from sklearn.linear_model import SGDRegressor\n",
    "\n",
    "sgd_reg = SGDRegressor()\n",
    "sgd_reg.fit(X, y.ravel())\n",
    "sgd_reg.predict([[1.5]])"
   ]
  },
  {
   "cell_type": "code",
   "execution_count": 233,
   "metadata": {},
   "outputs": [
    {
     "data": {
      "text/plain": [
       "array([4.93616366])"
      ]
     },
     "execution_count": 233,
     "metadata": {},
     "output_type": "execute_result"
    }
   ],
   "source": [
    "from sklearn.linear_model import Lasso\n",
    "\n",
    "lasso_reg = Lasso(alpha=0.1)\n",
    "lasso_reg.fit(X, y)\n",
    "lasso_reg.predict([[1.5]])"
   ]
  },
  {
   "cell_type": "code",
   "execution_count": 242,
   "metadata": {},
   "outputs": [
    {
     "data": {
      "text/plain": [
       "array([4.9392344])"
      ]
     },
     "execution_count": 242,
     "metadata": {},
     "output_type": "execute_result"
    }
   ],
   "source": [
    "from sklearn.linear_model import ElasticNet\n",
    "\n",
    "elastic_net = ElasticNet(alpha=0.1, l1_ratio=0.5)\n",
    "elastic_net.fit(X, y)\n",
    "elastic_net.predict([[1.5]])"
   ]
  },
  {
   "cell_type": "code",
   "execution_count": 250,
   "metadata": {},
   "outputs": [
    {
     "data": {
      "text/plain": [
       "array([0, 0, 0, 0, 0, 0, 0, 0, 0, 0, 0, 0, 0, 0, 0, 0, 0, 0, 0, 0, 0, 0,\n",
       "       0, 0, 0, 0, 0, 0, 0, 0, 0, 0, 0, 0, 0, 0, 0, 0, 0, 0, 0, 0, 0, 0,\n",
       "       0, 0, 0, 0, 0, 0, 0, 0, 0, 0, 0, 0, 0, 0, 0, 0, 0, 0, 0, 0, 0, 0,\n",
       "       0, 0, 0, 0, 0, 0, 0, 0, 0, 0, 0, 0, 0, 0, 0, 0, 0, 0, 0, 0, 0, 0,\n",
       "       0, 0, 0, 0, 0, 0, 0, 0, 0, 0, 0, 0, 1, 1, 1, 1, 1, 1, 1, 1, 1, 1,\n",
       "       1, 1, 1, 1, 1, 1, 1, 1, 1, 1, 1, 1, 1, 1, 1, 1, 1, 1, 1, 1, 1, 1,\n",
       "       1, 1, 1, 1, 1, 1, 1, 1, 1, 1, 1, 1, 1, 1, 1, 1, 1, 1])"
      ]
     },
     "execution_count": 250,
     "metadata": {},
     "output_type": "execute_result"
    }
   ],
   "source": [
    "from sklearn import datasets\n",
    "\n",
    "iris = datasets.load_iris()\n",
    "list(iris.keys())\n",
    "X = iris['data'][:, 3:]\n",
    "y = (iris['target'] == 2).astype(np.int)\n",
    "y"
   ]
  },
  {
   "cell_type": "code",
   "execution_count": 251,
   "metadata": {},
   "outputs": [
    {
     "data": {
      "text/plain": [
       "LogisticRegression(C=1.0, class_weight=None, dual=False, fit_intercept=True,\n",
       "                   intercept_scaling=1, l1_ratio=None, max_iter=100,\n",
       "                   multi_class='auto', n_jobs=None, penalty='l2',\n",
       "                   random_state=None, solver='lbfgs', tol=0.0001, verbose=0,\n",
       "                   warm_start=False)"
      ]
     },
     "execution_count": 251,
     "metadata": {},
     "output_type": "execute_result"
    }
   ],
   "source": [
    "from sklearn.linear_model import LogisticRegression\n",
    "\n",
    "log_reg = LogisticRegression()\n",
    "log_reg.fit(X, y)"
   ]
  },
  {
   "cell_type": "code",
   "execution_count": 252,
   "metadata": {},
   "outputs": [
    {
     "data": {
      "text/plain": [
       "array([[0.        ],\n",
       "       [0.003003  ],\n",
       "       [0.00600601],\n",
       "       [0.00900901],\n",
       "       [0.01201201],\n",
       "       [0.01501502],\n",
       "       [0.01801802],\n",
       "       [0.02102102],\n",
       "       [0.02402402],\n",
       "       [0.02702703],\n",
       "       [0.03003003],\n",
       "       [0.03303303],\n",
       "       [0.03603604],\n",
       "       [0.03903904],\n",
       "       [0.04204204],\n",
       "       [0.04504505],\n",
       "       [0.04804805],\n",
       "       [0.05105105],\n",
       "       [0.05405405],\n",
       "       [0.05705706],\n",
       "       [0.06006006],\n",
       "       [0.06306306],\n",
       "       [0.06606607],\n",
       "       [0.06906907],\n",
       "       [0.07207207],\n",
       "       [0.07507508],\n",
       "       [0.07807808],\n",
       "       [0.08108108],\n",
       "       [0.08408408],\n",
       "       [0.08708709],\n",
       "       [0.09009009],\n",
       "       [0.09309309],\n",
       "       [0.0960961 ],\n",
       "       [0.0990991 ],\n",
       "       [0.1021021 ],\n",
       "       [0.10510511],\n",
       "       [0.10810811],\n",
       "       [0.11111111],\n",
       "       [0.11411411],\n",
       "       [0.11711712],\n",
       "       [0.12012012],\n",
       "       [0.12312312],\n",
       "       [0.12612613],\n",
       "       [0.12912913],\n",
       "       [0.13213213],\n",
       "       [0.13513514],\n",
       "       [0.13813814],\n",
       "       [0.14114114],\n",
       "       [0.14414414],\n",
       "       [0.14714715],\n",
       "       [0.15015015],\n",
       "       [0.15315315],\n",
       "       [0.15615616],\n",
       "       [0.15915916],\n",
       "       [0.16216216],\n",
       "       [0.16516517],\n",
       "       [0.16816817],\n",
       "       [0.17117117],\n",
       "       [0.17417417],\n",
       "       [0.17717718],\n",
       "       [0.18018018],\n",
       "       [0.18318318],\n",
       "       [0.18618619],\n",
       "       [0.18918919],\n",
       "       [0.19219219],\n",
       "       [0.1951952 ],\n",
       "       [0.1981982 ],\n",
       "       [0.2012012 ],\n",
       "       [0.2042042 ],\n",
       "       [0.20720721],\n",
       "       [0.21021021],\n",
       "       [0.21321321],\n",
       "       [0.21621622],\n",
       "       [0.21921922],\n",
       "       [0.22222222],\n",
       "       [0.22522523],\n",
       "       [0.22822823],\n",
       "       [0.23123123],\n",
       "       [0.23423423],\n",
       "       [0.23723724],\n",
       "       [0.24024024],\n",
       "       [0.24324324],\n",
       "       [0.24624625],\n",
       "       [0.24924925],\n",
       "       [0.25225225],\n",
       "       [0.25525526],\n",
       "       [0.25825826],\n",
       "       [0.26126126],\n",
       "       [0.26426426],\n",
       "       [0.26726727],\n",
       "       [0.27027027],\n",
       "       [0.27327327],\n",
       "       [0.27627628],\n",
       "       [0.27927928],\n",
       "       [0.28228228],\n",
       "       [0.28528529],\n",
       "       [0.28828829],\n",
       "       [0.29129129],\n",
       "       [0.29429429],\n",
       "       [0.2972973 ],\n",
       "       [0.3003003 ],\n",
       "       [0.3033033 ],\n",
       "       [0.30630631],\n",
       "       [0.30930931],\n",
       "       [0.31231231],\n",
       "       [0.31531532],\n",
       "       [0.31831832],\n",
       "       [0.32132132],\n",
       "       [0.32432432],\n",
       "       [0.32732733],\n",
       "       [0.33033033],\n",
       "       [0.33333333],\n",
       "       [0.33633634],\n",
       "       [0.33933934],\n",
       "       [0.34234234],\n",
       "       [0.34534535],\n",
       "       [0.34834835],\n",
       "       [0.35135135],\n",
       "       [0.35435435],\n",
       "       [0.35735736],\n",
       "       [0.36036036],\n",
       "       [0.36336336],\n",
       "       [0.36636637],\n",
       "       [0.36936937],\n",
       "       [0.37237237],\n",
       "       [0.37537538],\n",
       "       [0.37837838],\n",
       "       [0.38138138],\n",
       "       [0.38438438],\n",
       "       [0.38738739],\n",
       "       [0.39039039],\n",
       "       [0.39339339],\n",
       "       [0.3963964 ],\n",
       "       [0.3993994 ],\n",
       "       [0.4024024 ],\n",
       "       [0.40540541],\n",
       "       [0.40840841],\n",
       "       [0.41141141],\n",
       "       [0.41441441],\n",
       "       [0.41741742],\n",
       "       [0.42042042],\n",
       "       [0.42342342],\n",
       "       [0.42642643],\n",
       "       [0.42942943],\n",
       "       [0.43243243],\n",
       "       [0.43543544],\n",
       "       [0.43843844],\n",
       "       [0.44144144],\n",
       "       [0.44444444],\n",
       "       [0.44744745],\n",
       "       [0.45045045],\n",
       "       [0.45345345],\n",
       "       [0.45645646],\n",
       "       [0.45945946],\n",
       "       [0.46246246],\n",
       "       [0.46546547],\n",
       "       [0.46846847],\n",
       "       [0.47147147],\n",
       "       [0.47447447],\n",
       "       [0.47747748],\n",
       "       [0.48048048],\n",
       "       [0.48348348],\n",
       "       [0.48648649],\n",
       "       [0.48948949],\n",
       "       [0.49249249],\n",
       "       [0.4954955 ],\n",
       "       [0.4984985 ],\n",
       "       [0.5015015 ],\n",
       "       [0.5045045 ],\n",
       "       [0.50750751],\n",
       "       [0.51051051],\n",
       "       [0.51351351],\n",
       "       [0.51651652],\n",
       "       [0.51951952],\n",
       "       [0.52252252],\n",
       "       [0.52552553],\n",
       "       [0.52852853],\n",
       "       [0.53153153],\n",
       "       [0.53453453],\n",
       "       [0.53753754],\n",
       "       [0.54054054],\n",
       "       [0.54354354],\n",
       "       [0.54654655],\n",
       "       [0.54954955],\n",
       "       [0.55255255],\n",
       "       [0.55555556],\n",
       "       [0.55855856],\n",
       "       [0.56156156],\n",
       "       [0.56456456],\n",
       "       [0.56756757],\n",
       "       [0.57057057],\n",
       "       [0.57357357],\n",
       "       [0.57657658],\n",
       "       [0.57957958],\n",
       "       [0.58258258],\n",
       "       [0.58558559],\n",
       "       [0.58858859],\n",
       "       [0.59159159],\n",
       "       [0.59459459],\n",
       "       [0.5975976 ],\n",
       "       [0.6006006 ],\n",
       "       [0.6036036 ],\n",
       "       [0.60660661],\n",
       "       [0.60960961],\n",
       "       [0.61261261],\n",
       "       [0.61561562],\n",
       "       [0.61861862],\n",
       "       [0.62162162],\n",
       "       [0.62462462],\n",
       "       [0.62762763],\n",
       "       [0.63063063],\n",
       "       [0.63363363],\n",
       "       [0.63663664],\n",
       "       [0.63963964],\n",
       "       [0.64264264],\n",
       "       [0.64564565],\n",
       "       [0.64864865],\n",
       "       [0.65165165],\n",
       "       [0.65465465],\n",
       "       [0.65765766],\n",
       "       [0.66066066],\n",
       "       [0.66366366],\n",
       "       [0.66666667],\n",
       "       [0.66966967],\n",
       "       [0.67267267],\n",
       "       [0.67567568],\n",
       "       [0.67867868],\n",
       "       [0.68168168],\n",
       "       [0.68468468],\n",
       "       [0.68768769],\n",
       "       [0.69069069],\n",
       "       [0.69369369],\n",
       "       [0.6966967 ],\n",
       "       [0.6996997 ],\n",
       "       [0.7027027 ],\n",
       "       [0.70570571],\n",
       "       [0.70870871],\n",
       "       [0.71171171],\n",
       "       [0.71471471],\n",
       "       [0.71771772],\n",
       "       [0.72072072],\n",
       "       [0.72372372],\n",
       "       [0.72672673],\n",
       "       [0.72972973],\n",
       "       [0.73273273],\n",
       "       [0.73573574],\n",
       "       [0.73873874],\n",
       "       [0.74174174],\n",
       "       [0.74474474],\n",
       "       [0.74774775],\n",
       "       [0.75075075],\n",
       "       [0.75375375],\n",
       "       [0.75675676],\n",
       "       [0.75975976],\n",
       "       [0.76276276],\n",
       "       [0.76576577],\n",
       "       [0.76876877],\n",
       "       [0.77177177],\n",
       "       [0.77477477],\n",
       "       [0.77777778],\n",
       "       [0.78078078],\n",
       "       [0.78378378],\n",
       "       [0.78678679],\n",
       "       [0.78978979],\n",
       "       [0.79279279],\n",
       "       [0.7957958 ],\n",
       "       [0.7987988 ],\n",
       "       [0.8018018 ],\n",
       "       [0.8048048 ],\n",
       "       [0.80780781],\n",
       "       [0.81081081],\n",
       "       [0.81381381],\n",
       "       [0.81681682],\n",
       "       [0.81981982],\n",
       "       [0.82282282],\n",
       "       [0.82582583],\n",
       "       [0.82882883],\n",
       "       [0.83183183],\n",
       "       [0.83483483],\n",
       "       [0.83783784],\n",
       "       [0.84084084],\n",
       "       [0.84384384],\n",
       "       [0.84684685],\n",
       "       [0.84984985],\n",
       "       [0.85285285],\n",
       "       [0.85585586],\n",
       "       [0.85885886],\n",
       "       [0.86186186],\n",
       "       [0.86486486],\n",
       "       [0.86786787],\n",
       "       [0.87087087],\n",
       "       [0.87387387],\n",
       "       [0.87687688],\n",
       "       [0.87987988],\n",
       "       [0.88288288],\n",
       "       [0.88588589],\n",
       "       [0.88888889],\n",
       "       [0.89189189],\n",
       "       [0.89489489],\n",
       "       [0.8978979 ],\n",
       "       [0.9009009 ],\n",
       "       [0.9039039 ],\n",
       "       [0.90690691],\n",
       "       [0.90990991],\n",
       "       [0.91291291],\n",
       "       [0.91591592],\n",
       "       [0.91891892],\n",
       "       [0.92192192],\n",
       "       [0.92492492],\n",
       "       [0.92792793],\n",
       "       [0.93093093],\n",
       "       [0.93393393],\n",
       "       [0.93693694],\n",
       "       [0.93993994],\n",
       "       [0.94294294],\n",
       "       [0.94594595],\n",
       "       [0.94894895],\n",
       "       [0.95195195],\n",
       "       [0.95495495],\n",
       "       [0.95795796],\n",
       "       [0.96096096],\n",
       "       [0.96396396],\n",
       "       [0.96696697],\n",
       "       [0.96996997],\n",
       "       [0.97297297],\n",
       "       [0.97597598],\n",
       "       [0.97897898],\n",
       "       [0.98198198],\n",
       "       [0.98498498],\n",
       "       [0.98798799],\n",
       "       [0.99099099],\n",
       "       [0.99399399],\n",
       "       [0.996997  ],\n",
       "       [1.        ],\n",
       "       [1.003003  ],\n",
       "       [1.00600601],\n",
       "       [1.00900901],\n",
       "       [1.01201201],\n",
       "       [1.01501502],\n",
       "       [1.01801802],\n",
       "       [1.02102102],\n",
       "       [1.02402402],\n",
       "       [1.02702703],\n",
       "       [1.03003003],\n",
       "       [1.03303303],\n",
       "       [1.03603604],\n",
       "       [1.03903904],\n",
       "       [1.04204204],\n",
       "       [1.04504505],\n",
       "       [1.04804805],\n",
       "       [1.05105105],\n",
       "       [1.05405405],\n",
       "       [1.05705706],\n",
       "       [1.06006006],\n",
       "       [1.06306306],\n",
       "       [1.06606607],\n",
       "       [1.06906907],\n",
       "       [1.07207207],\n",
       "       [1.07507508],\n",
       "       [1.07807808],\n",
       "       [1.08108108],\n",
       "       [1.08408408],\n",
       "       [1.08708709],\n",
       "       [1.09009009],\n",
       "       [1.09309309],\n",
       "       [1.0960961 ],\n",
       "       [1.0990991 ],\n",
       "       [1.1021021 ],\n",
       "       [1.10510511],\n",
       "       [1.10810811],\n",
       "       [1.11111111],\n",
       "       [1.11411411],\n",
       "       [1.11711712],\n",
       "       [1.12012012],\n",
       "       [1.12312312],\n",
       "       [1.12612613],\n",
       "       [1.12912913],\n",
       "       [1.13213213],\n",
       "       [1.13513514],\n",
       "       [1.13813814],\n",
       "       [1.14114114],\n",
       "       [1.14414414],\n",
       "       [1.14714715],\n",
       "       [1.15015015],\n",
       "       [1.15315315],\n",
       "       [1.15615616],\n",
       "       [1.15915916],\n",
       "       [1.16216216],\n",
       "       [1.16516517],\n",
       "       [1.16816817],\n",
       "       [1.17117117],\n",
       "       [1.17417417],\n",
       "       [1.17717718],\n",
       "       [1.18018018],\n",
       "       [1.18318318],\n",
       "       [1.18618619],\n",
       "       [1.18918919],\n",
       "       [1.19219219],\n",
       "       [1.1951952 ],\n",
       "       [1.1981982 ],\n",
       "       [1.2012012 ],\n",
       "       [1.2042042 ],\n",
       "       [1.20720721],\n",
       "       [1.21021021],\n",
       "       [1.21321321],\n",
       "       [1.21621622],\n",
       "       [1.21921922],\n",
       "       [1.22222222],\n",
       "       [1.22522523],\n",
       "       [1.22822823],\n",
       "       [1.23123123],\n",
       "       [1.23423423],\n",
       "       [1.23723724],\n",
       "       [1.24024024],\n",
       "       [1.24324324],\n",
       "       [1.24624625],\n",
       "       [1.24924925],\n",
       "       [1.25225225],\n",
       "       [1.25525526],\n",
       "       [1.25825826],\n",
       "       [1.26126126],\n",
       "       [1.26426426],\n",
       "       [1.26726727],\n",
       "       [1.27027027],\n",
       "       [1.27327327],\n",
       "       [1.27627628],\n",
       "       [1.27927928],\n",
       "       [1.28228228],\n",
       "       [1.28528529],\n",
       "       [1.28828829],\n",
       "       [1.29129129],\n",
       "       [1.29429429],\n",
       "       [1.2972973 ],\n",
       "       [1.3003003 ],\n",
       "       [1.3033033 ],\n",
       "       [1.30630631],\n",
       "       [1.30930931],\n",
       "       [1.31231231],\n",
       "       [1.31531532],\n",
       "       [1.31831832],\n",
       "       [1.32132132],\n",
       "       [1.32432432],\n",
       "       [1.32732733],\n",
       "       [1.33033033],\n",
       "       [1.33333333],\n",
       "       [1.33633634],\n",
       "       [1.33933934],\n",
       "       [1.34234234],\n",
       "       [1.34534535],\n",
       "       [1.34834835],\n",
       "       [1.35135135],\n",
       "       [1.35435435],\n",
       "       [1.35735736],\n",
       "       [1.36036036],\n",
       "       [1.36336336],\n",
       "       [1.36636637],\n",
       "       [1.36936937],\n",
       "       [1.37237237],\n",
       "       [1.37537538],\n",
       "       [1.37837838],\n",
       "       [1.38138138],\n",
       "       [1.38438438],\n",
       "       [1.38738739],\n",
       "       [1.39039039],\n",
       "       [1.39339339],\n",
       "       [1.3963964 ],\n",
       "       [1.3993994 ],\n",
       "       [1.4024024 ],\n",
       "       [1.40540541],\n",
       "       [1.40840841],\n",
       "       [1.41141141],\n",
       "       [1.41441441],\n",
       "       [1.41741742],\n",
       "       [1.42042042],\n",
       "       [1.42342342],\n",
       "       [1.42642643],\n",
       "       [1.42942943],\n",
       "       [1.43243243],\n",
       "       [1.43543544],\n",
       "       [1.43843844],\n",
       "       [1.44144144],\n",
       "       [1.44444444],\n",
       "       [1.44744745],\n",
       "       [1.45045045],\n",
       "       [1.45345345],\n",
       "       [1.45645646],\n",
       "       [1.45945946],\n",
       "       [1.46246246],\n",
       "       [1.46546547],\n",
       "       [1.46846847],\n",
       "       [1.47147147],\n",
       "       [1.47447447],\n",
       "       [1.47747748],\n",
       "       [1.48048048],\n",
       "       [1.48348348],\n",
       "       [1.48648649],\n",
       "       [1.48948949],\n",
       "       [1.49249249],\n",
       "       [1.4954955 ],\n",
       "       [1.4984985 ],\n",
       "       [1.5015015 ],\n",
       "       [1.5045045 ],\n",
       "       [1.50750751],\n",
       "       [1.51051051],\n",
       "       [1.51351351],\n",
       "       [1.51651652],\n",
       "       [1.51951952],\n",
       "       [1.52252252],\n",
       "       [1.52552553],\n",
       "       [1.52852853],\n",
       "       [1.53153153],\n",
       "       [1.53453453],\n",
       "       [1.53753754],\n",
       "       [1.54054054],\n",
       "       [1.54354354],\n",
       "       [1.54654655],\n",
       "       [1.54954955],\n",
       "       [1.55255255],\n",
       "       [1.55555556],\n",
       "       [1.55855856],\n",
       "       [1.56156156],\n",
       "       [1.56456456],\n",
       "       [1.56756757],\n",
       "       [1.57057057],\n",
       "       [1.57357357],\n",
       "       [1.57657658],\n",
       "       [1.57957958],\n",
       "       [1.58258258],\n",
       "       [1.58558559],\n",
       "       [1.58858859],\n",
       "       [1.59159159],\n",
       "       [1.59459459],\n",
       "       [1.5975976 ],\n",
       "       [1.6006006 ],\n",
       "       [1.6036036 ],\n",
       "       [1.60660661],\n",
       "       [1.60960961],\n",
       "       [1.61261261],\n",
       "       [1.61561562],\n",
       "       [1.61861862],\n",
       "       [1.62162162],\n",
       "       [1.62462462],\n",
       "       [1.62762763],\n",
       "       [1.63063063],\n",
       "       [1.63363363],\n",
       "       [1.63663664],\n",
       "       [1.63963964],\n",
       "       [1.64264264],\n",
       "       [1.64564565],\n",
       "       [1.64864865],\n",
       "       [1.65165165],\n",
       "       [1.65465465],\n",
       "       [1.65765766],\n",
       "       [1.66066066],\n",
       "       [1.66366366],\n",
       "       [1.66666667],\n",
       "       [1.66966967],\n",
       "       [1.67267267],\n",
       "       [1.67567568],\n",
       "       [1.67867868],\n",
       "       [1.68168168],\n",
       "       [1.68468468],\n",
       "       [1.68768769],\n",
       "       [1.69069069],\n",
       "       [1.69369369],\n",
       "       [1.6966967 ],\n",
       "       [1.6996997 ],\n",
       "       [1.7027027 ],\n",
       "       [1.70570571],\n",
       "       [1.70870871],\n",
       "       [1.71171171],\n",
       "       [1.71471471],\n",
       "       [1.71771772],\n",
       "       [1.72072072],\n",
       "       [1.72372372],\n",
       "       [1.72672673],\n",
       "       [1.72972973],\n",
       "       [1.73273273],\n",
       "       [1.73573574],\n",
       "       [1.73873874],\n",
       "       [1.74174174],\n",
       "       [1.74474474],\n",
       "       [1.74774775],\n",
       "       [1.75075075],\n",
       "       [1.75375375],\n",
       "       [1.75675676],\n",
       "       [1.75975976],\n",
       "       [1.76276276],\n",
       "       [1.76576577],\n",
       "       [1.76876877],\n",
       "       [1.77177177],\n",
       "       [1.77477477],\n",
       "       [1.77777778],\n",
       "       [1.78078078],\n",
       "       [1.78378378],\n",
       "       [1.78678679],\n",
       "       [1.78978979],\n",
       "       [1.79279279],\n",
       "       [1.7957958 ],\n",
       "       [1.7987988 ],\n",
       "       [1.8018018 ],\n",
       "       [1.8048048 ],\n",
       "       [1.80780781],\n",
       "       [1.81081081],\n",
       "       [1.81381381],\n",
       "       [1.81681682],\n",
       "       [1.81981982],\n",
       "       [1.82282282],\n",
       "       [1.82582583],\n",
       "       [1.82882883],\n",
       "       [1.83183183],\n",
       "       [1.83483483],\n",
       "       [1.83783784],\n",
       "       [1.84084084],\n",
       "       [1.84384384],\n",
       "       [1.84684685],\n",
       "       [1.84984985],\n",
       "       [1.85285285],\n",
       "       [1.85585586],\n",
       "       [1.85885886],\n",
       "       [1.86186186],\n",
       "       [1.86486486],\n",
       "       [1.86786787],\n",
       "       [1.87087087],\n",
       "       [1.87387387],\n",
       "       [1.87687688],\n",
       "       [1.87987988],\n",
       "       [1.88288288],\n",
       "       [1.88588589],\n",
       "       [1.88888889],\n",
       "       [1.89189189],\n",
       "       [1.89489489],\n",
       "       [1.8978979 ],\n",
       "       [1.9009009 ],\n",
       "       [1.9039039 ],\n",
       "       [1.90690691],\n",
       "       [1.90990991],\n",
       "       [1.91291291],\n",
       "       [1.91591592],\n",
       "       [1.91891892],\n",
       "       [1.92192192],\n",
       "       [1.92492492],\n",
       "       [1.92792793],\n",
       "       [1.93093093],\n",
       "       [1.93393393],\n",
       "       [1.93693694],\n",
       "       [1.93993994],\n",
       "       [1.94294294],\n",
       "       [1.94594595],\n",
       "       [1.94894895],\n",
       "       [1.95195195],\n",
       "       [1.95495495],\n",
       "       [1.95795796],\n",
       "       [1.96096096],\n",
       "       [1.96396396],\n",
       "       [1.96696697],\n",
       "       [1.96996997],\n",
       "       [1.97297297],\n",
       "       [1.97597598],\n",
       "       [1.97897898],\n",
       "       [1.98198198],\n",
       "       [1.98498498],\n",
       "       [1.98798799],\n",
       "       [1.99099099],\n",
       "       [1.99399399],\n",
       "       [1.996997  ],\n",
       "       [2.        ],\n",
       "       [2.003003  ],\n",
       "       [2.00600601],\n",
       "       [2.00900901],\n",
       "       [2.01201201],\n",
       "       [2.01501502],\n",
       "       [2.01801802],\n",
       "       [2.02102102],\n",
       "       [2.02402402],\n",
       "       [2.02702703],\n",
       "       [2.03003003],\n",
       "       [2.03303303],\n",
       "       [2.03603604],\n",
       "       [2.03903904],\n",
       "       [2.04204204],\n",
       "       [2.04504505],\n",
       "       [2.04804805],\n",
       "       [2.05105105],\n",
       "       [2.05405405],\n",
       "       [2.05705706],\n",
       "       [2.06006006],\n",
       "       [2.06306306],\n",
       "       [2.06606607],\n",
       "       [2.06906907],\n",
       "       [2.07207207],\n",
       "       [2.07507508],\n",
       "       [2.07807808],\n",
       "       [2.08108108],\n",
       "       [2.08408408],\n",
       "       [2.08708709],\n",
       "       [2.09009009],\n",
       "       [2.09309309],\n",
       "       [2.0960961 ],\n",
       "       [2.0990991 ],\n",
       "       [2.1021021 ],\n",
       "       [2.10510511],\n",
       "       [2.10810811],\n",
       "       [2.11111111],\n",
       "       [2.11411411],\n",
       "       [2.11711712],\n",
       "       [2.12012012],\n",
       "       [2.12312312],\n",
       "       [2.12612613],\n",
       "       [2.12912913],\n",
       "       [2.13213213],\n",
       "       [2.13513514],\n",
       "       [2.13813814],\n",
       "       [2.14114114],\n",
       "       [2.14414414],\n",
       "       [2.14714715],\n",
       "       [2.15015015],\n",
       "       [2.15315315],\n",
       "       [2.15615616],\n",
       "       [2.15915916],\n",
       "       [2.16216216],\n",
       "       [2.16516517],\n",
       "       [2.16816817],\n",
       "       [2.17117117],\n",
       "       [2.17417417],\n",
       "       [2.17717718],\n",
       "       [2.18018018],\n",
       "       [2.18318318],\n",
       "       [2.18618619],\n",
       "       [2.18918919],\n",
       "       [2.19219219],\n",
       "       [2.1951952 ],\n",
       "       [2.1981982 ],\n",
       "       [2.2012012 ],\n",
       "       [2.2042042 ],\n",
       "       [2.20720721],\n",
       "       [2.21021021],\n",
       "       [2.21321321],\n",
       "       [2.21621622],\n",
       "       [2.21921922],\n",
       "       [2.22222222],\n",
       "       [2.22522523],\n",
       "       [2.22822823],\n",
       "       [2.23123123],\n",
       "       [2.23423423],\n",
       "       [2.23723724],\n",
       "       [2.24024024],\n",
       "       [2.24324324],\n",
       "       [2.24624625],\n",
       "       [2.24924925],\n",
       "       [2.25225225],\n",
       "       [2.25525526],\n",
       "       [2.25825826],\n",
       "       [2.26126126],\n",
       "       [2.26426426],\n",
       "       [2.26726727],\n",
       "       [2.27027027],\n",
       "       [2.27327327],\n",
       "       [2.27627628],\n",
       "       [2.27927928],\n",
       "       [2.28228228],\n",
       "       [2.28528529],\n",
       "       [2.28828829],\n",
       "       [2.29129129],\n",
       "       [2.29429429],\n",
       "       [2.2972973 ],\n",
       "       [2.3003003 ],\n",
       "       [2.3033033 ],\n",
       "       [2.30630631],\n",
       "       [2.30930931],\n",
       "       [2.31231231],\n",
       "       [2.31531532],\n",
       "       [2.31831832],\n",
       "       [2.32132132],\n",
       "       [2.32432432],\n",
       "       [2.32732733],\n",
       "       [2.33033033],\n",
       "       [2.33333333],\n",
       "       [2.33633634],\n",
       "       [2.33933934],\n",
       "       [2.34234234],\n",
       "       [2.34534535],\n",
       "       [2.34834835],\n",
       "       [2.35135135],\n",
       "       [2.35435435],\n",
       "       [2.35735736],\n",
       "       [2.36036036],\n",
       "       [2.36336336],\n",
       "       [2.36636637],\n",
       "       [2.36936937],\n",
       "       [2.37237237],\n",
       "       [2.37537538],\n",
       "       [2.37837838],\n",
       "       [2.38138138],\n",
       "       [2.38438438],\n",
       "       [2.38738739],\n",
       "       [2.39039039],\n",
       "       [2.39339339],\n",
       "       [2.3963964 ],\n",
       "       [2.3993994 ],\n",
       "       [2.4024024 ],\n",
       "       [2.40540541],\n",
       "       [2.40840841],\n",
       "       [2.41141141],\n",
       "       [2.41441441],\n",
       "       [2.41741742],\n",
       "       [2.42042042],\n",
       "       [2.42342342],\n",
       "       [2.42642643],\n",
       "       [2.42942943],\n",
       "       [2.43243243],\n",
       "       [2.43543544],\n",
       "       [2.43843844],\n",
       "       [2.44144144],\n",
       "       [2.44444444],\n",
       "       [2.44744745],\n",
       "       [2.45045045],\n",
       "       [2.45345345],\n",
       "       [2.45645646],\n",
       "       [2.45945946],\n",
       "       [2.46246246],\n",
       "       [2.46546547],\n",
       "       [2.46846847],\n",
       "       [2.47147147],\n",
       "       [2.47447447],\n",
       "       [2.47747748],\n",
       "       [2.48048048],\n",
       "       [2.48348348],\n",
       "       [2.48648649],\n",
       "       [2.48948949],\n",
       "       [2.49249249],\n",
       "       [2.4954955 ],\n",
       "       [2.4984985 ],\n",
       "       [2.5015015 ],\n",
       "       [2.5045045 ],\n",
       "       [2.50750751],\n",
       "       [2.51051051],\n",
       "       [2.51351351],\n",
       "       [2.51651652],\n",
       "       [2.51951952],\n",
       "       [2.52252252],\n",
       "       [2.52552553],\n",
       "       [2.52852853],\n",
       "       [2.53153153],\n",
       "       [2.53453453],\n",
       "       [2.53753754],\n",
       "       [2.54054054],\n",
       "       [2.54354354],\n",
       "       [2.54654655],\n",
       "       [2.54954955],\n",
       "       [2.55255255],\n",
       "       [2.55555556],\n",
       "       [2.55855856],\n",
       "       [2.56156156],\n",
       "       [2.56456456],\n",
       "       [2.56756757],\n",
       "       [2.57057057],\n",
       "       [2.57357357],\n",
       "       [2.57657658],\n",
       "       [2.57957958],\n",
       "       [2.58258258],\n",
       "       [2.58558559],\n",
       "       [2.58858859],\n",
       "       [2.59159159],\n",
       "       [2.59459459],\n",
       "       [2.5975976 ],\n",
       "       [2.6006006 ],\n",
       "       [2.6036036 ],\n",
       "       [2.60660661],\n",
       "       [2.60960961],\n",
       "       [2.61261261],\n",
       "       [2.61561562],\n",
       "       [2.61861862],\n",
       "       [2.62162162],\n",
       "       [2.62462462],\n",
       "       [2.62762763],\n",
       "       [2.63063063],\n",
       "       [2.63363363],\n",
       "       [2.63663664],\n",
       "       [2.63963964],\n",
       "       [2.64264264],\n",
       "       [2.64564565],\n",
       "       [2.64864865],\n",
       "       [2.65165165],\n",
       "       [2.65465465],\n",
       "       [2.65765766],\n",
       "       [2.66066066],\n",
       "       [2.66366366],\n",
       "       [2.66666667],\n",
       "       [2.66966967],\n",
       "       [2.67267267],\n",
       "       [2.67567568],\n",
       "       [2.67867868],\n",
       "       [2.68168168],\n",
       "       [2.68468468],\n",
       "       [2.68768769],\n",
       "       [2.69069069],\n",
       "       [2.69369369],\n",
       "       [2.6966967 ],\n",
       "       [2.6996997 ],\n",
       "       [2.7027027 ],\n",
       "       [2.70570571],\n",
       "       [2.70870871],\n",
       "       [2.71171171],\n",
       "       [2.71471471],\n",
       "       [2.71771772],\n",
       "       [2.72072072],\n",
       "       [2.72372372],\n",
       "       [2.72672673],\n",
       "       [2.72972973],\n",
       "       [2.73273273],\n",
       "       [2.73573574],\n",
       "       [2.73873874],\n",
       "       [2.74174174],\n",
       "       [2.74474474],\n",
       "       [2.74774775],\n",
       "       [2.75075075],\n",
       "       [2.75375375],\n",
       "       [2.75675676],\n",
       "       [2.75975976],\n",
       "       [2.76276276],\n",
       "       [2.76576577],\n",
       "       [2.76876877],\n",
       "       [2.77177177],\n",
       "       [2.77477477],\n",
       "       [2.77777778],\n",
       "       [2.78078078],\n",
       "       [2.78378378],\n",
       "       [2.78678679],\n",
       "       [2.78978979],\n",
       "       [2.79279279],\n",
       "       [2.7957958 ],\n",
       "       [2.7987988 ],\n",
       "       [2.8018018 ],\n",
       "       [2.8048048 ],\n",
       "       [2.80780781],\n",
       "       [2.81081081],\n",
       "       [2.81381381],\n",
       "       [2.81681682],\n",
       "       [2.81981982],\n",
       "       [2.82282282],\n",
       "       [2.82582583],\n",
       "       [2.82882883],\n",
       "       [2.83183183],\n",
       "       [2.83483483],\n",
       "       [2.83783784],\n",
       "       [2.84084084],\n",
       "       [2.84384384],\n",
       "       [2.84684685],\n",
       "       [2.84984985],\n",
       "       [2.85285285],\n",
       "       [2.85585586],\n",
       "       [2.85885886],\n",
       "       [2.86186186],\n",
       "       [2.86486486],\n",
       "       [2.86786787],\n",
       "       [2.87087087],\n",
       "       [2.87387387],\n",
       "       [2.87687688],\n",
       "       [2.87987988],\n",
       "       [2.88288288],\n",
       "       [2.88588589],\n",
       "       [2.88888889],\n",
       "       [2.89189189],\n",
       "       [2.89489489],\n",
       "       [2.8978979 ],\n",
       "       [2.9009009 ],\n",
       "       [2.9039039 ],\n",
       "       [2.90690691],\n",
       "       [2.90990991],\n",
       "       [2.91291291],\n",
       "       [2.91591592],\n",
       "       [2.91891892],\n",
       "       [2.92192192],\n",
       "       [2.92492492],\n",
       "       [2.92792793],\n",
       "       [2.93093093],\n",
       "       [2.93393393],\n",
       "       [2.93693694],\n",
       "       [2.93993994],\n",
       "       [2.94294294],\n",
       "       [2.94594595],\n",
       "       [2.94894895],\n",
       "       [2.95195195],\n",
       "       [2.95495495],\n",
       "       [2.95795796],\n",
       "       [2.96096096],\n",
       "       [2.96396396],\n",
       "       [2.96696697],\n",
       "       [2.96996997],\n",
       "       [2.97297297],\n",
       "       [2.97597598],\n",
       "       [2.97897898],\n",
       "       [2.98198198],\n",
       "       [2.98498498],\n",
       "       [2.98798799],\n",
       "       [2.99099099],\n",
       "       [2.99399399],\n",
       "       [2.996997  ],\n",
       "       [3.        ]])"
      ]
     },
     "execution_count": 252,
     "metadata": {},
     "output_type": "execute_result"
    }
   ],
   "source": [
    "X_new = np.linspace(0, 3, 1000).reshape(-1, 1)\n",
    "X_new"
   ]
  },
  {
   "cell_type": "code",
   "execution_count": 255,
   "metadata": {},
   "outputs": [
    {
     "data": {
      "text/plain": [
       "array([[9.99250016e-01, 7.49984089e-04],\n",
       "       [9.99240201e-01, 7.59799387e-04],\n",
       "       [9.99230257e-01, 7.69743043e-04],\n",
       "       ...,\n",
       "       [3.08374822e-03, 9.96916252e-01],\n",
       "       [3.04400296e-03, 9.96955997e-01],\n",
       "       [3.00476842e-03, 9.96995232e-01]])"
      ]
     },
     "execution_count": 255,
     "metadata": {},
     "output_type": "execute_result"
    }
   ],
   "source": [
    "y_proba = log_reg.predict_proba(X_new)\n",
    "y_proba"
   ]
  },
  {
   "cell_type": "code",
   "execution_count": 257,
   "metadata": {},
   "outputs": [
    {
     "data": {
      "text/plain": [
       "[<matplotlib.lines.Line2D at 0x1cd18408c88>]"
      ]
     },
     "execution_count": 257,
     "metadata": {},
     "output_type": "execute_result"
    },
    {
     "data": {
      "image/png": "[encoded data removed]",
      "text/plain": [
       "<Figure size 432x288 with 1 Axes>"
      ]
     },
     "metadata": {
      "needs_background": "light"
     },
     "output_type": "display_data"
    }
   ],
   "source": [
    "plt.plot(X_new, y_proba[:, 1], \"g-\", label=\"Ирис Вергинский\")\n",
    "plt.plot(X_new, y_proba[:, 0], \"b--\")"
   ]
  },
  {
   "cell_type": "code",
   "execution_count": null,
   "metadata": {},
   "outputs": [],
   "source": []
  }
 ],
 "metadata": {
  "kernelspec": {
   "display_name": "Python 3",
   "language": "python",
   "name": "python3"
  },
  "language_info": {
   "codemirror_mode": {
    "name": "ipython",
    "version": 3
   },
   "file_extension": ".py",
   "mimetype": "text/x-python",
   "name": "python",
   "nbconvert_exporter": "python",
   "pygments_lexer": "ipython3",
   "version": "3.7.0"
  }
 },
 "nbformat": 4,
 "nbformat_minor": 4
}
