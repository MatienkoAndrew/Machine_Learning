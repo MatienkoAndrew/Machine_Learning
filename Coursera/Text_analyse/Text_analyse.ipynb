{
 "cells": [
  {
   "cell_type": "code",
   "execution_count": 1,
   "metadata": {},
   "outputs": [],
   "source": [
    "from sklearn import datasets\n",
    "from sklearn.svm import SVC\n",
    "from sklearn.feature_extraction.text import TfidfVectorizer\n",
    "from sklearn.model_selection import KFold\n",
    "from sklearn.model_selection import GridSearchCV\n",
    "import pandas as pd\n",
    "import tarfile\n",
    "import numpy as np"
   ]
  },
  {
   "cell_type": "code",
   "execution_count": 2,
   "metadata": {
    "scrolled": true
   },
   "outputs": [],
   "source": [
    "##--Dataset\n",
    "newsgroups = datasets.fetch_20newsgroups(\n",
    "                        subset='all',\n",
    "                        categories=['alt.atheism', 'sci.space'])\n",
    "# newsgroups"
   ]
  },
  {
   "cell_type": "code",
   "execution_count": 3,
   "metadata": {},
   "outputs": [],
   "source": [
    "##-- Разархивируем файл\n",
    "# data = tarfile.open('20newsbydate.tar.gz')\n",
    "# data.extractall()\n",
    "# data\n",
    "# newsgroups.data"
   ]
  },
  {
   "cell_type": "code",
   "execution_count": 67,
   "metadata": {},
   "outputs": [
    {
     "data": {
      "text/html": [
       "<div>\n",
       "<style scoped>\n",
       "    .dataframe tbody tr th:only-of-type {\n",
       "        vertical-align: middle;\n",
       "    }\n",
       "\n",
       "    .dataframe tbody tr th {\n",
       "        vertical-align: top;\n",
       "    }\n",
       "\n",
       "    .dataframe thead th {\n",
       "        text-align: right;\n",
       "    }\n",
       "</style>\n",
       "<table border=\"1\" class=\"dataframe\">\n",
       "  <thead>\n",
       "    <tr style=\"text-align: right;\">\n",
       "      <th></th>\n",
       "      <th>0</th>\n",
       "    </tr>\n",
       "  </thead>\n",
       "  <tbody>\n",
       "    <tr>\n",
       "      <th>0</th>\n",
       "      <td>From: 9051467f@levels.unisa.edu.au (The Desert...</td>\n",
       "    </tr>\n",
       "    <tr>\n",
       "      <th>1</th>\n",
       "      <td>From: kempmp@phoenix.oulu.fi (Petri Pihko)\\nSu...</td>\n",
       "    </tr>\n",
       "    <tr>\n",
       "      <th>2</th>\n",
       "      <td>From: fairfiel@helios.usq.EDU.AU (raymond fair...</td>\n",
       "    </tr>\n",
       "    <tr>\n",
       "      <th>3</th>\n",
       "      <td>From: steinly@topaz.ucsc.edu (Steinn Sigurdsso...</td>\n",
       "    </tr>\n",
       "    <tr>\n",
       "      <th>4</th>\n",
       "      <td>From: jcobban@bnr.ca (Jim Cobban)\\nSubject: Re...</td>\n",
       "    </tr>\n",
       "    <tr>\n",
       "      <th>...</th>\n",
       "      <td>...</td>\n",
       "    </tr>\n",
       "    <tr>\n",
       "      <th>1781</th>\n",
       "      <td>From: nsmca@aurora.alaska.edu\\nSubject: Re: Su...</td>\n",
       "    </tr>\n",
       "    <tr>\n",
       "      <th>1782</th>\n",
       "      <td>From: loss@fs7.ECE.CMU.EDU (Doug Loss)\\nSubjec...</td>\n",
       "    </tr>\n",
       "    <tr>\n",
       "      <th>1783</th>\n",
       "      <td>From: bill@xpresso.UUCP (Bill Vance)\\nSubject:...</td>\n",
       "    </tr>\n",
       "    <tr>\n",
       "      <th>1784</th>\n",
       "      <td>From: jcm@head-cfa.harvard.edu (Jonathan McDow...</td>\n",
       "    </tr>\n",
       "    <tr>\n",
       "      <th>1785</th>\n",
       "      <td>From: Alan.Olsen@p17.f40.n105.z1.fidonet.org (...</td>\n",
       "    </tr>\n",
       "  </tbody>\n",
       "</table>\n",
       "<p>1786 rows × 1 columns</p>\n",
       "</div>"
      ],
      "text/plain": [
       "                                                      0\n",
       "0     From: 9051467f@levels.unisa.edu.au (The Desert...\n",
       "1     From: kempmp@phoenix.oulu.fi (Petri Pihko)\\nSu...\n",
       "2     From: fairfiel@helios.usq.EDU.AU (raymond fair...\n",
       "3     From: steinly@topaz.ucsc.edu (Steinn Sigurdsso...\n",
       "4     From: jcobban@bnr.ca (Jim Cobban)\\nSubject: Re...\n",
       "...                                                 ...\n",
       "1781  From: nsmca@aurora.alaska.edu\\nSubject: Re: Su...\n",
       "1782  From: loss@fs7.ECE.CMU.EDU (Doug Loss)\\nSubjec...\n",
       "1783  From: bill@xpresso.UUCP (Bill Vance)\\nSubject:...\n",
       "1784  From: jcm@head-cfa.harvard.edu (Jonathan McDow...\n",
       "1785  From: Alan.Olsen@p17.f40.n105.z1.fidonet.org (...\n",
       "\n",
       "[1786 rows x 1 columns]"
      ]
     },
     "execution_count": 67,
     "metadata": {},
     "output_type": "execute_result"
    }
   ],
   "source": [
    "df1 = pd.DataFrame(newsgroups.data)\n",
    "df1"
   ]
  },
  {
   "cell_type": "code",
   "execution_count": 16,
   "metadata": {},
   "outputs": [
    {
     "data": {
      "text/plain": [
       "<1786x28382 sparse matrix of type '<class 'numpy.float64'>'\n",
       "\twith 303138 stored elements in Compressed Sparse Row format>"
      ]
     },
     "execution_count": 16,
     "metadata": {},
     "output_type": "execute_result"
    }
   ],
   "source": [
    "##-- Словам в тексте придаем уникальные числовые значения\n",
    "vector = TfidfVectorizer()\n",
    "X = vector.fit_transform(newsgroups.data)\n",
    "X"
   ]
  },
  {
   "cell_type": "code",
   "execution_count": 19,
   "metadata": {},
   "outputs": [
    {
     "name": "stdout",
     "output_type": "stream",
     "text": [
      "1.0\n"
     ]
    }
   ],
   "source": [
    "## Очень долго считает, чуть комп не взорвался\n",
    "##-- Находит наилучший 'C'\n",
    "grid = {'C' : np.power(10.0, np.arange(-5, 6))}\n",
    "cv = KFold(n_splits=5, shuffle=True, random_state=241)\n",
    "clf = SVC(kernel='linear', random_state=241)\n",
    "gs = GridSearchCV(clf, grid, scoring='accuracy', cv=cv, n_jobs=-1)\n",
    "gs.fit(X, newsgroups.target)\n",
    "best_C = gs.best_params_['C']\n",
    "print(best_C)"
   ]
  },
  {
   "cell_type": "code",
   "execution_count": 21,
   "metadata": {},
   "outputs": [
    {
     "data": {
      "text/plain": [
       "SVC(C=1, break_ties=False, cache_size=200, class_weight=None, coef0=0.0,\n",
       "    decision_function_shape='ovr', degree=3, gamma='scale', kernel='linear',\n",
       "    max_iter=-1, probability=False, random_state=241, shrinking=True, tol=0.001,\n",
       "    verbose=False)"
      ]
     },
     "execution_count": 21,
     "metadata": {},
     "output_type": "execute_result"
    }
   ],
   "source": [
    "##-- Создаем новый классификатор на лучшем 'C'\n",
    "##-- Тренируем его\n",
    "##-- И находим 10 последних индексов, \n",
    "##-- в которых самые часто встречающиеся слова\n",
    "new_clf = SVC(C=1, kernel='linear', random_state=241)\n",
    "new_clf.fit(X, newsgroups.target)"
   ]
  },
  {
   "cell_type": "code",
   "execution_count": 22,
   "metadata": {},
   "outputs": [
    {
     "data": {
      "text/plain": [
       "<1x28382 sparse matrix of type '<class 'numpy.float64'>'\n",
       "\twith 18404 stored elements in Compressed Sparse Row format>"
      ]
     },
     "execution_count": 22,
     "metadata": {},
     "output_type": "execute_result"
    }
   ],
   "source": [
    "new_clf.coef_"
   ]
  },
  {
   "cell_type": "code",
   "execution_count": 26,
   "metadata": {},
   "outputs": [
    {
     "data": {
      "text/plain": [
       "array([0.29258057, 0.12314757, 0.        , ..., 0.01972862, 0.05831336,\n",
       "       0.00297347])"
      ]
     },
     "execution_count": 26,
     "metadata": {},
     "output_type": "execute_result"
    }
   ],
   "source": [
    "coefs = abs(new_clf.coef_.todense().A1)\n",
    "coefs"
   ]
  },
  {
   "cell_type": "code",
   "execution_count": 27,
   "metadata": {},
   "outputs": [
    {
     "data": {
      "text/plain": [
       "array([ 7801, 21437,  9144, ...,  5088, 12871, 24019], dtype=int64)"
      ]
     },
     "execution_count": 27,
     "metadata": {},
     "output_type": "execute_result"
    }
   ],
   "source": [
    "coefs = np.argsort(coefs)\n",
    "coefs"
   ]
  },
  {
   "cell_type": "code",
   "execution_count": 57,
   "metadata": {},
   "outputs": [
    {
     "data": {
      "text/plain": [
       "'space'"
      ]
     },
     "execution_count": 57,
     "metadata": {},
     "output_type": "execute_result"
    }
   ],
   "source": [
    "fin_coefs = coefs[-10:]\n",
    "vector.get_feature_names()[24019]"
   ]
  },
  {
   "cell_type": "code",
   "execution_count": 61,
   "metadata": {},
   "outputs": [
    {
     "name": "stdout",
     "output_type": "stream",
     "text": [
      "sci\n",
      "keith\n",
      "bible\n",
      "religion\n",
      "sky\n",
      "moon\n",
      "atheists\n",
      "atheism\n",
      "god\n",
      "space\n"
     ]
    }
   ],
   "source": [
    "new_list = []\n",
    "for i in range(10):\n",
    "    print(vector.get_feature_names()[fin_coefs[i]])\n",
    "    new_list.append(vector.get_feature_names()[fin_coefs[i]])"
   ]
  },
  {
   "cell_type": "code",
   "execution_count": 66,
   "metadata": {
    "scrolled": true
   },
   "outputs": [
    {
     "data": {
      "text/plain": [
       "['atheism',\n",
       " 'atheists',\n",
       " 'bible',\n",
       " 'god',\n",
       " 'keith',\n",
       " 'moon',\n",
       " 'religion',\n",
       " 'sci',\n",
       " 'sky',\n",
       " 'space']"
      ]
     },
     "execution_count": 66,
     "metadata": {},
     "output_type": "execute_result"
    }
   ],
   "source": [
    "sorted(new_list)"
   ]
  }
 ],
 "metadata": {
  "kernelspec": {
   "display_name": "Python 3",
   "language": "python",
   "name": "python3"
  },
  "language_info": {
   "codemirror_mode": {
    "name": "ipython",
    "version": 3
   },
   "file_extension": ".py",
   "mimetype": "text/x-python",
   "name": "python",
   "nbconvert_exporter": "python",
   "pygments_lexer": "ipython3",
   "version": "3.7.0"
  }
 },
 "nbformat": 4,
 "nbformat_minor": 4
}
