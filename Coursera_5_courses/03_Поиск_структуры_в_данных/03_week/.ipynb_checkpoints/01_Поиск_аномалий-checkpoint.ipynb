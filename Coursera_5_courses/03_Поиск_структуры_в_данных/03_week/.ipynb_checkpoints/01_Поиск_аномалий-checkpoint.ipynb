{
 "cells": [
  {
   "cell_type": "markdown",
   "metadata": {},
   "source": [
    "# Поиск аномалий в данных"
   ]
  },
  {
   "cell_type": "markdown",
   "metadata": {},
   "source": [
    "Для начала создадим синтетический набор данных, который будет содержать только два столбца:\n",
    "\n",
    "— ФИО сотрудников организации (для 100 человек)\n",
    "\n",
    "— их ежемесячная заработная плата (в долларах США) в диапазоне от 1000 до 2500."
   ]
  },
  {
   "cell_type": "code",
   "execution_count": 1,
   "metadata": {},
   "outputs": [],
   "source": [
    "import pandas as pd\n",
    "import numpy as np\n",
    "from matplotlib import pyplot as plt"
   ]
  },
  {
   "cell_type": "code",
   "execution_count": 2,
   "metadata": {},
   "outputs": [],
   "source": [
    "plt.style.use('ggplot')"
   ]
  },
  {
   "cell_type": "code",
   "execution_count": 5,
   "metadata": {},
   "outputs": [],
   "source": [
    "from faker import Faker"
   ]
  },
  {
   "cell_type": "code",
   "execution_count": 6,
   "metadata": {},
   "outputs": [],
   "source": [
    "Faker.seed(4321)"
   ]
  },
  {
   "cell_type": "code",
   "execution_count": 7,
   "metadata": {},
   "outputs": [],
   "source": [
    "names_list = []\n",
    "\n",
    "fake = Faker()\n",
    "for _ in range(100):\n",
    "    names_list.append(fake.name())"
   ]
  },
  {
   "cell_type": "code",
   "execution_count": 9,
   "metadata": {},
   "outputs": [
    {
     "data": {
      "text/plain": [
       "['Jason Brown',\n",
       " 'Jacob Stein',\n",
       " 'Cody Brown',\n",
       " 'Larry Morales',\n",
       " 'Jessica Hendricks']"
      ]
     },
     "execution_count": 9,
     "metadata": {},
     "output_type": "execute_result"
    }
   ],
   "source": [
    "names_list[:5]"
   ]
  },
  {
   "cell_type": "code",
   "execution_count": 10,
   "metadata": {},
   "outputs": [],
   "source": [
    "np.random.seed(42)\n",
    "salaries = []\n",
    "for _ in range(100):\n",
    "    salary = np.random.randint(1000, 2500)\n",
    "    salaries.append(salary)"
   ]
  },
  {
   "cell_type": "code",
   "execution_count": 11,
   "metadata": {},
   "outputs": [
    {
     "data": {
      "text/plain": [
       "[2126, 2459, 1860, 2294, 2130]"
      ]
     },
     "execution_count": 11,
     "metadata": {},
     "output_type": "execute_result"
    }
   ],
   "source": [
    "salaries[:5]"
   ]
  },
  {
   "cell_type": "code",
   "execution_count": 14,
   "metadata": {},
   "outputs": [],
   "source": [
    "##Pandas DataFrame\n",
    "salary_df = pd.DataFrame(\n",
    "    {'Person': names_list,\n",
    "    'Salary (in USD)': salaries\n",
    "    })"
   ]
  },
  {
   "cell_type": "code",
   "execution_count": 15,
   "metadata": {},
   "outputs": [
    {
     "data": {
      "text/html": [
       "<div>\n",
       "<style scoped>\n",
       "    .dataframe tbody tr th:only-of-type {\n",
       "        vertical-align: middle;\n",
       "    }\n",
       "\n",
       "    .dataframe tbody tr th {\n",
       "        vertical-align: top;\n",
       "    }\n",
       "\n",
       "    .dataframe thead th {\n",
       "        text-align: right;\n",
       "    }\n",
       "</style>\n",
       "<table border=\"1\" class=\"dataframe\">\n",
       "  <thead>\n",
       "    <tr style=\"text-align: right;\">\n",
       "      <th></th>\n",
       "      <th>Person</th>\n",
       "      <th>Salary (in USD)</th>\n",
       "    </tr>\n",
       "  </thead>\n",
       "  <tbody>\n",
       "    <tr>\n",
       "      <th>0</th>\n",
       "      <td>Jason Brown</td>\n",
       "      <td>2126</td>\n",
       "    </tr>\n",
       "    <tr>\n",
       "      <th>1</th>\n",
       "      <td>Jacob Stein</td>\n",
       "      <td>2459</td>\n",
       "    </tr>\n",
       "    <tr>\n",
       "      <th>2</th>\n",
       "      <td>Cody Brown</td>\n",
       "      <td>1860</td>\n",
       "    </tr>\n",
       "    <tr>\n",
       "      <th>3</th>\n",
       "      <td>Larry Morales</td>\n",
       "      <td>2294</td>\n",
       "    </tr>\n",
       "    <tr>\n",
       "      <th>4</th>\n",
       "      <td>Jessica Hendricks</td>\n",
       "      <td>2130</td>\n",
       "    </tr>\n",
       "    <tr>\n",
       "      <th>...</th>\n",
       "      <td>...</td>\n",
       "      <td>...</td>\n",
       "    </tr>\n",
       "    <tr>\n",
       "      <th>95</th>\n",
       "      <td>Robert Garrett</td>\n",
       "      <td>2076</td>\n",
       "    </tr>\n",
       "    <tr>\n",
       "      <th>96</th>\n",
       "      <td>Parker Kent</td>\n",
       "      <td>1791</td>\n",
       "    </tr>\n",
       "    <tr>\n",
       "      <th>97</th>\n",
       "      <td>Michelle Logan</td>\n",
       "      <td>1216</td>\n",
       "    </tr>\n",
       "    <tr>\n",
       "      <th>98</th>\n",
       "      <td>Beverly Baker DVM</td>\n",
       "      <td>1763</td>\n",
       "    </tr>\n",
       "    <tr>\n",
       "      <th>99</th>\n",
       "      <td>James Decker</td>\n",
       "      <td>1187</td>\n",
       "    </tr>\n",
       "  </tbody>\n",
       "</table>\n",
       "<p>100 rows × 2 columns</p>\n",
       "</div>"
      ],
      "text/plain": [
       "               Person  Salary (in USD)\n",
       "0         Jason Brown             2126\n",
       "1         Jacob Stein             2459\n",
       "2          Cody Brown             1860\n",
       "3       Larry Morales             2294\n",
       "4   Jessica Hendricks             2130\n",
       "..                ...              ...\n",
       "95     Robert Garrett             2076\n",
       "96        Parker Kent             1791\n",
       "97     Michelle Logan             1216\n",
       "98  Beverly Baker DVM             1763\n",
       "99       James Decker             1187\n",
       "\n",
       "[100 rows x 2 columns]"
      ]
     },
     "execution_count": 15,
     "metadata": {},
     "output_type": "execute_result"
    }
   ],
   "source": [
    "salary_df"
   ]
  },
  {
   "cell_type": "markdown",
   "metadata": {},
   "source": [
    "Давайте вручную изменим зарплату двух человек, чтобы создать выбросы. В реальности это может произойти по ряду причин, например, из-за невнимательности бухгалтера или сбоя программного обеспечения."
   ]
  },
  {
   "cell_type": "code",
   "execution_count": 18,
   "metadata": {},
   "outputs": [
    {
     "name": "stdout",
     "output_type": "stream",
     "text": [
      "Person             Miss Amanda Harris MD\n",
      "Salary (in USD)                       23\n",
      "Name: 16, dtype: object\n",
      "Person             Joyce Bishop\n",
      "Salary (in USD)              17\n",
      "Name: 65, dtype: object\n"
     ]
    }
   ],
   "source": [
    "salary_df.at[16, 'Salary (in USD)'] = 23\n",
    "salary_df.at[65, 'Salary (in USD)'] = 17\n",
    "\n",
    "print(salary_df.loc[16])\n",
    "print(salary_df.loc[65])"
   ]
  },
  {
   "cell_type": "markdown",
   "metadata": {},
   "source": [
    "## Находим аномалии с помощью графиков"
   ]
  },
  {
   "cell_type": "markdown",
   "metadata": {},
   "source": [
    "Обратите внимание на маленький кружок в самом низу. Он сразу даёт понять, что что-то не так, потому что сильно отличается от остальных данных. "
   ]
  },
  {
   "cell_type": "code",
   "execution_count": 19,
   "metadata": {},
   "outputs": [
    {
     "data": {
      "text/plain": [
       "<matplotlib.axes._subplots.AxesSubplot at 0x29cca866208>"
      ]
     },
     "execution_count": 19,
     "metadata": {},
     "output_type": "execute_result"
    },
    {
     "data": {
      "image/png": "[encoded data removed]",
      "text/plain": [
       "<Figure size 432x288 with 1 Axes>"
      ]
     },
     "metadata": {},
     "output_type": "display_data"
    }
   ],
   "source": [
    "salary_df['Salary (in USD)'].plot(kind='box')"
   ]
  },
  {
   "attachments": {
    "image.png": {
     "image/png": "[encoded data removed]"
    }
   },
   "cell_type": "markdown",
   "metadata": {},
   "source": [
    "![image.png](attachment:image.png)"
   ]
  },
  {
   "cell_type": "markdown",
   "metadata": {},
   "source": [
    "## Гистограмма"
   ]
  },
  {
   "cell_type": "code",
   "execution_count": 20,
   "metadata": {},
   "outputs": [
    {
     "data": {
      "text/plain": [
       "<matplotlib.axes._subplots.AxesSubplot at 0x29cca735d68>"
      ]
     },
     "execution_count": 20,
     "metadata": {},
     "output_type": "execute_result"
    },
    {
     "data": {
      "image/png": "[encoded data removed]",
      "text/plain": [
       "<Figure size 432x288 with 1 Axes>"
      ]
     },
     "metadata": {},
     "output_type": "display_data"
    }
   ],
   "source": [
    "salary_df['Salary (in USD)'].plot(kind='hist')"
   ]
  },
  {
   "cell_type": "markdown",
   "metadata": {},
   "source": [
    "***Примечание: хотя наш набор данных содержит только один признак (зарплату), в настоящих датасетах аномалии могут встречаться в разных признаках. Но даже там такие визуализации помогут вам их обнаружить.***"
   ]
  },
  {
   "cell_type": "markdown",
   "metadata": {},
   "source": [
    "# Кластерный подход для обнаружения аномалий"
   ]
  },
  {
   "cell_type": "code",
   "execution_count": 26,
   "metadata": {},
   "outputs": [],
   "source": [
    "salary_row = salary_df['Salary (in USD)'].values\n",
    "\n",
    "salary_row = salary_row.reshape(-1,1)\n",
    "salary_row = salary_row.astype('float64')"
   ]
  },
  {
   "cell_type": "code",
   "execution_count": 36,
   "metadata": {},
   "outputs": [],
   "source": [
    "from scipy import cluster\n",
    "from scipy.cluster.vq import kmeans"
   ]
  },
  {
   "cell_type": "code",
   "execution_count": 37,
   "metadata": {},
   "outputs": [],
   "source": [
    "centroids, avg_distance = kmeans(salary_row, 4)"
   ]
  },
  {
   "cell_type": "markdown",
   "metadata": {},
   "source": [
    "#### centroids — это центроиды, сгенерированные kmeans, а avg_distance — усреднённое евклидово расстояние между ними и точками."
   ]
  },
  {
   "cell_type": "code",
   "execution_count": 40,
   "metadata": {},
   "outputs": [
    {
     "data": {
      "text/plain": [
       "(array([[1127.96428571],\n",
       "        [2062.76190476],\n",
       "        [2374.45      ],\n",
       "        [1697.35483871]]),\n",
       " 115.21835227272727)"
      ]
     },
     "execution_count": 40,
     "metadata": {},
     "output_type": "execute_result"
    }
   ],
   "source": [
    "centroids, avg_distance"
   ]
  },
  {
   "cell_type": "markdown",
   "metadata": {},
   "source": [
    "извлечём наши кластеры с помощью метода vq(). Его аргументы это:\n",
    "\n",
    "— точки данных\n",
    "\n",
    "— центроид, сгенерированный алгоритмом кластеризации."
   ]
  },
  {
   "cell_type": "markdown",
   "metadata": {},
   "source": [
    "Метод возвращает группы точек (кластеры) и расстояния между точками и ближайшими кластерами."
   ]
  },
  {
   "cell_type": "code",
   "execution_count": 41,
   "metadata": {},
   "outputs": [],
   "source": [
    "groups, cdist = cluster.vq.vq(salary_row, centroids)"
   ]
  },
  {
   "cell_type": "code",
   "execution_count": 42,
   "metadata": {},
   "outputs": [
    {
     "data": {
      "text/plain": [
       "array([1, 2, 3, 2, 1, 1, 1, 0, 3, 2, 0, 2, 0, 2, 1, 3, 0, 2, 3, 0, 2, 3,\n",
       "       0, 1, 1, 0, 1, 3, 2, 0, 0, 3, 3, 3, 1, 3, 2, 3, 1, 0, 1, 3, 1, 3,\n",
       "       2, 3, 1, 3, 0, 3, 0, 2, 0, 3, 0, 0, 0, 3, 2, 3, 1, 2, 0, 2, 1, 0,\n",
       "       2, 3, 3, 0, 0, 1, 2, 1, 1, 2, 3, 1, 3, 0, 3, 0, 0, 1, 0, 3, 2, 3,\n",
       "       2, 2, 1, 0, 3, 0, 3, 1, 3, 0, 3, 0])"
      ]
     },
     "execution_count": 42,
     "metadata": {},
     "output_type": "execute_result"
    }
   ],
   "source": [
    "groups"
   ]
  },
  {
   "cell_type": "code",
   "execution_count": 45,
   "metadata": {},
   "outputs": [
    {
     "data": {
      "text/plain": [
       "array([  63.23809524,   84.55      ,  162.64516129,   80.45      ,\n",
       "         67.23809524,   32.23809524,   18.76190476,    6.96428571,\n",
       "        231.35483871,  136.45      ,  202.03571429,  107.55      ,\n",
       "         40.96428571,   21.55      ,   60.23809524,  173.64516129,\n",
       "       1104.96428571,   42.45      ,   71.64516129,  215.03571429,\n",
       "         62.55      ,  107.64516129,  257.03571429,  152.23809524,\n",
       "        107.76190476,  148.03571429,  121.23809524,  238.35483871,\n",
       "         37.45      ,  106.96428571,  124.03571429,   49.64516129,\n",
       "        158.64516129,  223.35483871,   19.23809524,  187.35483871,\n",
       "        124.55      ,    1.64516129,   87.76190476,   61.03571429,\n",
       "        105.76190476,   11.35483871,  105.76190476,  135.35483871,\n",
       "        107.45      ,  133.64516129,   91.23809524,   51.35483871,\n",
       "        107.96428571,  142.64516129,   38.03571429,   77.45      ,\n",
       "        259.03571429,   97.35483871,  187.03571429,  114.96428571,\n",
       "        113.03571429,   78.64516129,    5.45      ,  133.35483871,\n",
       "        165.76190476,   11.45      ,   36.96428571,   15.55      ,\n",
       "        107.76190476, 1110.96428571,   76.55      ,  189.35483871,\n",
       "         77.64516129,   93.96428571,   77.03571429,   41.23809524,\n",
       "         36.55      ,   37.76190476,   41.76190476,   38.55      ,\n",
       "        132.35483871,   66.23809524,    4.64516129,  273.03571429,\n",
       "         31.64516129,   33.03571429,   73.03571429,   67.76190476,\n",
       "        141.03571429,  117.64516129,   80.45      ,  242.35483871,\n",
       "        110.55      ,   99.45      ,   46.76190476,  167.03571429,\n",
       "         21.64516129,  209.03571429,  180.64516129,   13.23809524,\n",
       "         93.64516129,   88.03571429,   65.64516129,   59.03571429])"
      ]
     },
     "execution_count": 45,
     "metadata": {},
     "output_type": "execute_result"
    }
   ],
   "source": [
    "cdist"
   ]
  },
  {
   "cell_type": "code",
   "execution_count": 48,
   "metadata": {},
   "outputs": [
    {
     "data": {
      "text/plain": [
       "Text(0, 0.5, 'Indices')"
      ]
     },
     "execution_count": 48,
     "metadata": {},
     "output_type": "execute_result"
    },
    {
     "data": {
      "image/png": "[encoded data removed]",
      "text/plain": [
       "<Figure size 720x504 with 1 Axes>"
      ]
     },
     "metadata": {},
     "output_type": "display_data"
    }
   ],
   "source": [
    "plt.figure(figsize=(10,7))\n",
    "plt.scatter(salary_row, np.arange(0, 100), c=groups)\n",
    "plt.xlabel('Salaries (in USD)')\n",
    "plt.ylabel('Indices')"
   ]
  },
  {
   "cell_type": "markdown",
   "metadata": {},
   "source": [
    "## Вывод\n",
    "\n",
    "Теперь вы точно видите аномалии. Итак, несколько моментов, которые необходимо учитывать перед обучением модели:\n",
    "\n",
    "Тщательно изучите данные — взгляните на каждый признак в наборе, соберите статистику.\n",
    "\n",
    "Постройте несколько полезных графиков (как показано выше), так вам будет легче заметить отклонения.\n",
    "\n",
    "Посмотрите, как признаки связаны друг с другом. Это поможет выбрать наиболее значимые из них и отказаться от тех, что не влияют на целевую переменную (не коррелируют с ней). "
   ]
  },
  {
   "cell_type": "code",
   "execution_count": null,
   "metadata": {},
   "outputs": [],
   "source": []
  }
 ],
 "metadata": {
  "kernelspec": {
   "display_name": "Python 3",
   "language": "python",
   "name": "python3"
  },
  "language_info": {
   "codemirror_mode": {
    "name": "ipython",
    "version": 3
   },
   "file_extension": ".py",
   "mimetype": "text/x-python",
   "name": "python",
   "nbconvert_exporter": "python",
   "pygments_lexer": "ipython3",
   "version": "3.7.0"
  }
 },
 "nbformat": 4,
 "nbformat_minor": 4
}
